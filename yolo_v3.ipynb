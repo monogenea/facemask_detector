{
 "metadata": {
  "language_info": {
   "codemirror_mode": {
    "name": "ipython",
    "version": 3
   },
   "file_extension": ".py",
   "mimetype": "text/x-python",
   "name": "python",
   "nbconvert_exporter": "python",
   "pygments_lexer": "ipython3",
   "version": "3.7.6"
  },
  "orig_nbformat": 2,
  "kernelspec": {
   "name": "python376jvsc74a57bd0d16767c6835a72b9caa63568db0c195d1b63744dca581aad6c8227e265608001",
   "display_name": "Python 3.7.6 64-bit ('opencv-course': venv)"
  }
 },
 "nbformat": 4,
 "nbformat_minor": 2,
 "cells": [
  {
   "source": [
    "# Face Mask Detection Using YOLOv3\n",
    "\n",
    "1. "
   ],
   "cell_type": "markdown",
   "metadata": {}
  },
  {
   "cell_type": "code",
   "execution_count": 1,
   "metadata": {},
   "outputs": [
    {
     "output_type": "stream",
     "name": "stdout",
     "text": [
      "Cloning into 'darknet'...\n",
      "remote: Enumerating objects: 15054, done.\u001b[K\n",
      "remote: Total 15054 (delta 0), reused 0 (delta 0), pack-reused 15054\u001b[K\n",
      "Receiving objects: 100% (15054/15054), 13.43 MiB | 6.61 MiB/s, done.\n",
      "Resolving deltas: 100% (10234/10234), done.\n"
     ]
    }
   ],
   "source": [
    "# Clone Darknet GitHub repo\n",
    "!git clone https://github.com/AlexeyAB/darknet.git"
   ]
  },
  {
   "source": [
    "Move to `darknet` and configure."
   ],
   "cell_type": "markdown",
   "metadata": {}
  },
  {
   "cell_type": "code",
   "execution_count": 2,
   "metadata": {},
   "outputs": [
    {
     "output_type": "stream",
     "name": "stdout",
     "text": [
      "/Users/franciscolima/Documents/Education/openCV/course_II/project3-mask-detector/darknet\n",
      "Building... This can take 2 minutes\n"
     ]
    }
   ],
   "source": [
    "%cd darknet\n",
    "!sed -i '' -e 's/OPENCV=0/OPENCV=1/' Makefile # macOS w/ AMG graphics\n",
    "\n",
    "print('Building... This can take 2 minutes')\n",
    "!make &> build_log.txt"
   ]
  },
  {
   "source": [
    "Now that darknet was compiled and configured, we can download the weights of the convolutional backbone"
   ],
   "cell_type": "markdown",
   "metadata": {}
  },
  {
   "cell_type": "code",
   "execution_count": 3,
   "metadata": {},
   "outputs": [
    {
     "output_type": "stream",
     "name": "stdout",
     "text": [
      "Warning: Failed to set locale category LC_NUMERIC to en_DE.\n",
      "Warning: Failed to set locale category LC_TIME to en_DE.\n",
      "Warning: Failed to set locale category LC_COLLATE to en_DE.\n",
      "Warning: Failed to set locale category LC_MONETARY to en_DE.\n",
      "Warning: Failed to set locale category LC_MESSAGES to en_DE.\n",
      "--2021-06-03 12:15:23--  https://pjreddie.com/media/files/darknet53.conv.74\n",
      "Resolving pjreddie.com (pjreddie.com)... 128.208.4.108\n",
      "Connecting to pjreddie.com (pjreddie.com)|128.208.4.108|:443... connected.\n",
      "HTTP request sent, awaiting response... 200 OK\n",
      "Length: 162482580 (155M) [application/octet-stream]\n",
      "Saving to: ‘darknet53.conv.74’\n",
      "\n",
      "darknet53.conv.74   100%[===================>] 154.96M  11.3MB/s    in 15s     \n",
      "\n",
      "2021-06-03 12:15:39 (10.2 MB/s) - ‘darknet53.conv.74’ saved [162482580/162482580]\n",
      "\n"
     ]
    }
   ],
   "source": [
    "# Download conv backbone from \n",
    "!wget \"https://pjreddie.com/media/files/darknet53.conv.74\" -O darknet53.conv.74"
   ]
  },
  {
   "source": [
    "Say something interesting here."
   ],
   "cell_type": "markdown",
   "metadata": {}
  },
  {
   "cell_type": "code",
   "execution_count": null,
   "metadata": {},
   "outputs": [],
   "source": []
  }
 ]
}