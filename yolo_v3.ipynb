{
 "metadata": {
  "language_info": {
   "codemirror_mode": {
    "name": "ipython",
    "version": 3
   },
   "file_extension": ".py",
   "mimetype": "text/x-python",
   "name": "python",
   "nbconvert_exporter": "python",
   "pygments_lexer": "ipython3",
   "version": "3.7.9"
  },
  "orig_nbformat": 2,
  "kernelspec": {
   "name": "python379jvsc74a57bd0db7257580a1ff306940433b8aea5cdf44839b74ee2ec8cd5ba8623dd2a840110",
   "display_name": "Python 3.7.9 64-bit ('metab_conv': conda)"
  }
 },
 "nbformat": 4,
 "nbformat_minor": 2,
 "cells": [
  {
   "source": [
    "# Face Mask Detection Using YOLOv3\n",
    "\n",
    "We start off by downloading and configuring Darknet."
   ],
   "cell_type": "markdown",
   "metadata": {}
  },
  {
   "cell_type": "code",
   "execution_count": 2,
   "metadata": {},
   "outputs": [
    {
     "output_type": "stream",
     "name": "stdout",
     "text": [
      "Cloning into 'darknet'...\n",
      "remote: Enumerating objects: 15054, done.\u001b[K\n",
      "remote: Total 15054 (delta 0), reused 0 (delta 0), pack-reused 15054\u001b[K\n",
      "Receiving objects: 100% (15054/15054), 13.43 MiB | 12.22 MiB/s, done.\n",
      "Resolving deltas: 100% (10234/10234), done.\n"
     ]
    }
   ],
   "source": [
    "!git clone https://github.com/AlexeyAB/darknet.git\n"
   ]
  },
  {
   "source": [
    "Move to `darknet` and configure."
   ],
   "cell_type": "markdown",
   "metadata": {}
  },
  {
   "cell_type": "code",
   "execution_count": 3,
   "metadata": {},
   "outputs": [
    {
     "output_type": "stream",
     "name": "stdout",
     "text": [
      "/Users/franciscolima/Documents/Education/openCV/course_II/project3-mask-detector/darknet\n",
      "sed: 1: \"Makefile\": invalid command code M\n",
      "Building... This can take 2 minutes\n"
     ]
    }
   ],
   "source": [
    "%cd darknet\n",
    "!sed -i 's/OPENCV=0/OPENCV=1/' Makefile\n",
    "\n",
    "print('Building... This can take 2 minutes')\n",
    "!make &> build_log.txt"
   ]
  },
  {
   "source": [
    "Something here."
   ],
   "cell_type": "markdown",
   "metadata": {}
  },
  {
   "cell_type": "code",
   "execution_count": null,
   "metadata": {},
   "outputs": [],
   "source": [
    "# Original File : https://pjreddie.com/media/files/darknet53.conv.74\n",
    "!wget \"https://www.dropbox.com/s/18dwbfth7prbf0h/darknet53.conv.74?dl=1\" -O darknet53.conv.74"
   ]
  },
  {
   "source": [
    "Say something interesting here."
   ],
   "cell_type": "markdown",
   "metadata": {}
  },
  {
   "cell_type": "code",
   "execution_count": null,
   "metadata": {},
   "outputs": [],
   "source": []
  }
 ]
}